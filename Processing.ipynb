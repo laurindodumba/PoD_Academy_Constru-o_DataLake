{
 "cells": [
  {
   "cell_type": "markdown",
   "id": "92187da9",
   "metadata": {},
   "source": [
    "# Importar as bibliotecas"
   ]
  },
  {
   "cell_type": "code",
   "execution_count": 68,
   "id": "d58bdd9e",
   "metadata": {},
   "outputs": [
    {
     "data": {
      "application/vnd.jupyter.widget-view+json": {
       "model_id": "",
       "version_major": 2,
       "version_minor": 0
      },
      "text/plain": [
       "FloatProgress(value=0.0, bar_style='info', description='Progress:', layout=Layout(height='25px', width='50%'),…"
      ]
     },
     "metadata": {},
     "output_type": "display_data"
    }
   ],
   "source": [
    "from pyspark.sql.functions import input_file_name, col, lit, regexp_replace, split\n",
    "from datetime import datetime, timedelta"
   ]
  },
  {
   "cell_type": "markdown",
   "id": "6298445a",
   "metadata": {},
   "source": [
    "# CRIAÇÃO DA VARS EXECUÇÃO"
   ]
  },
  {
   "cell_type": "code",
   "execution_count": 12,
   "id": "872119da",
   "metadata": {},
   "outputs": [
    {
     "data": {
      "application/vnd.jupyter.widget-view+json": {
       "model_id": "",
       "version_major": 2,
       "version_minor": 0
      },
      "text/plain": [
       "FloatProgress(value=0.0, bar_style='info', description='Progress:', layout=Layout(height='25px', width='50%'),…"
      ]
     },
     "metadata": {},
     "output_type": "display_data"
    },
    {
     "name": "stdout",
     "output_type": "stream",
     "text": [
      "'20240801'"
     ]
    }
   ],
   "source": [
    "ts_pro = datetime.now().strftime('%Y%m%d')\n",
    "ts_pro\n"
   ]
  },
  {
   "cell_type": "markdown",
   "id": "c2337edf",
   "metadata": {},
   "source": [
    "# Leituras dos dados no s3"
   ]
  },
  {
   "cell_type": "code",
   "execution_count": 74,
   "id": "481b7a95",
   "metadata": {},
   "outputs": [
    {
     "data": {
      "application/vnd.jupyter.widget-view+json": {
       "model_id": "",
       "version_major": 2,
       "version_minor": 0
      },
      "text/plain": [
       "FloatProgress(value=0.0, bar_style='info', description='Progress:', layout=Layout(height='25px', width='50%'),…"
      ]
     },
     "metadata": {},
     "output_type": "display_data"
    },
    {
     "name": "stdout",
     "output_type": "stream",
     "text": [
      "+--------+----------+-----------------+------------------+-----------------+-----------------+-----------------+--------+-------+-------------------+-------------------+--------------------+-------------------+\n",
      "|     _c0|      City|      Description|   Temperature (F)|   Feels Like (F)| Minimun Temp (F)| Maximum Temp (F)|Pressure|Humidty|         Wind Speed|     Time of Record|Sunrise (Local Time)|Sunset (Local Time)|\n",
      "+--------+----------+-----------------+------------------+-----------------+-----------------+-----------------+--------+-------+-------------------+-------------------+--------------------+-------------------+\n",
      "|       0|  Portland|       few clouds|63.104000000000056|             62.6|           60.242|65.91200000000006|    1019|     74|               0.89|2024-07-18 08:26:15| 2024-07-18 05:39:46|2024-07-18 20:53:47|\n",
      "|Portland|few clouds|66.48800000000006| 66.12800000000007|63.87800000000007|69.65600000000003|             1019|      70|   2.06|2024-07-18 09:24:13|2024-07-18 05:39:46| 2024-07-18 20:53:47|               NULL|\n",
      "|Portland|few clouds|66.48800000000006| 66.12800000000007|63.87800000000007|69.65600000000003|             1019|      70|   2.06|2024-07-18 09:24:13|2024-07-18 05:39:46| 2024-07-18 20:53:47|               NULL|\n",
      "|Portland|few clouds|66.48800000000006| 66.12800000000007|63.87800000000007|69.65600000000003|             1019|      70|   2.06|2024-07-18 09:24:13|2024-07-18 05:39:46| 2024-07-18 20:53:47|               NULL|\n",
      "|Portland| clear sky| 72.0680000000001|            71.834|69.49400000000009|75.23600000000008|             1019|      61|   5.81|2024-07-18 10:34:23|2024-07-18 05:39:46| 2024-07-18 20:53:47|               NULL|\n",
      "|Portland| clear sky| 72.0680000000001|            71.834|69.49400000000009|75.23600000000008|             1019|      61|   5.81|2024-07-18 10:34:23|2024-07-18 05:39:46| 2024-07-18 20:53:47|               NULL|\n",
      "|Portland| clear sky|73.88600000000008| 73.74199999999999|71.20400000000006|77.32400000000001|             1018|      59|   2.68|2024-07-18 11:25:03|2024-07-18 05:39:46| 2024-07-18 20:53:47|               NULL|\n",
      "|Portland|     smoke|77.41400000000004|            77.342|            74.75|80.33000000000004|             1018|      53|   2.57|2024-07-18 12:23:00|2024-07-18 05:39:46| 2024-07-18 20:53:47|               NULL|\n",
      "|Portland|     smoke|77.41400000000004|            77.342|            74.75|80.33000000000004|             1018|      53|   2.57|2024-07-18 12:23:00|2024-07-18 05:39:46| 2024-07-18 20:53:47|               NULL|\n",
      "|Portland|     smoke|77.57600000000009| 77.52200000000005|            74.75|80.61800000000008|             1018|      53|   2.57|2024-07-18 12:25:03|2024-07-18 05:39:46| 2024-07-18 20:53:47|               NULL|\n",
      "+--------+----------+-----------------+------------------+-----------------+-----------------+-----------------+--------+-------+-------------------+-------------------+--------------------+-------------------+\n",
      "only showing top 10 rows"
     ]
    }
   ],
   "source": [
    "dados = spark.read.option('header','true').csv('s3://auladums3/current_weather_data_portland.csv')\n",
    "# dados = dados.withColumn('ref', lit(ref))\n",
    "dados.show(10)"
   ]
  },
  {
   "cell_type": "code",
   "execution_count": 75,
   "id": "76d63e3f",
   "metadata": {},
   "outputs": [
    {
     "data": {
      "application/vnd.jupyter.widget-view+json": {
       "model_id": "",
       "version_major": 2,
       "version_minor": 0
      },
      "text/plain": [
       "FloatProgress(value=0.0, bar_style='info', description='Progress:', layout=Layout(height='25px', width='50%'),…"
      ]
     },
     "metadata": {},
     "output_type": "display_data"
    },
    {
     "name": "stdout",
     "output_type": "stream",
     "text": [
      "25"
     ]
    }
   ],
   "source": [
    "#Contagem da quantidade dos dados que foram extraídos da API\n",
    "dados.count()"
   ]
  },
  {
   "cell_type": "code",
   "execution_count": 76,
   "id": "75df6cbe",
   "metadata": {},
   "outputs": [
    {
     "data": {
      "application/vnd.jupyter.widget-view+json": {
       "model_id": "",
       "version_major": 2,
       "version_minor": 0
      },
      "text/plain": [
       "FloatProgress(value=0.0, bar_style='info', description='Progress:', layout=Layout(height='25px', width='50%'),…"
      ]
     },
     "metadata": {},
     "output_type": "display_data"
    },
    {
     "name": "stdout",
     "output_type": "stream",
     "text": [
      "root\n",
      " |-- _c0: string (nullable = true)\n",
      " |-- City: string (nullable = true)\n",
      " |-- Description: string (nullable = true)\n",
      " |-- Temperature (F): string (nullable = true)\n",
      " |-- Feels Like (F): string (nullable = true)\n",
      " |-- Minimun Temp (F): string (nullable = true)\n",
      " |-- Maximum Temp (F): string (nullable = true)\n",
      " |-- Pressure: string (nullable = true)\n",
      " |-- Humidty: string (nullable = true)\n",
      " |-- Wind Speed: string (nullable = true)\n",
      " |-- Time of Record: string (nullable = true)\n",
      " |-- Sunrise (Local Time): string (nullable = true)\n",
      " |-- Sunset (Local Time): string (nullable = true)"
     ]
    }
   ],
   "source": [
    "# Verificação dos Schema da base dados\n",
    "dados.printSchema()"
   ]
  },
  {
   "cell_type": "code",
   "execution_count": 77,
   "id": "4086b2de",
   "metadata": {},
   "outputs": [
    {
     "data": {
      "application/vnd.jupyter.widget-view+json": {
       "model_id": "",
       "version_major": 2,
       "version_minor": 0
      },
      "text/plain": [
       "FloatProgress(value=0.0, bar_style='info', description='Progress:', layout=Layout(height='25px', width='50%'),…"
      ]
     },
     "metadata": {},
     "output_type": "display_data"
    },
    {
     "name": "stdout",
     "output_type": "stream",
     "text": [
      "['_c0', 'City', 'Description', 'Temperature (F)', 'Feels Like (F)', 'Minimun Temp (F)', 'Maximum Temp (F)', 'Pressure', 'Humidty', 'Wind Speed', 'Time of Record', 'Sunrise (Local Time)', 'Sunset (Local Time)']"
     ]
    }
   ],
   "source": [
    "# Validação dos nomes da colunas da base dados\n",
    "\n",
    "dados.columns"
   ]
  },
  {
   "cell_type": "code",
   "execution_count": 78,
   "id": "028be182",
   "metadata": {},
   "outputs": [
    {
     "data": {
      "application/vnd.jupyter.widget-view+json": {
       "model_id": "",
       "version_major": 2,
       "version_minor": 0
      },
      "text/plain": [
       "FloatProgress(value=0.0, bar_style='info', description='Progress:', layout=Layout(height='25px', width='50%'),…"
      ]
     },
     "metadata": {},
     "output_type": "display_data"
    },
    {
     "name": "stdout",
     "output_type": "stream",
     "text": [
      "DataFrame[_c0: string, City: string, Description: string, Temperature (F): string, Feels Like (F): string, Minimun Temp (F): string, Maximum Temp (F): string, Pressure: string, Humidty: string, Wind Speed: string, Time of Record: string, Sunrise (Local Time): string, Sunset (Local Time): string]"
     ]
    }
   ],
   "source": [
    "#Criação da tabela temporária para tratamento dos dados\n",
    "\n",
    "dados.createOrReplaceTempView('dados')\n",
    "dados.cache()"
   ]
  },
  {
   "cell_type": "code",
   "execution_count": 82,
   "id": "163f74c3",
   "metadata": {},
   "outputs": [
    {
     "data": {
      "application/vnd.jupyter.widget-view+json": {
       "model_id": "",
       "version_major": 2,
       "version_minor": 0
      },
      "text/plain": [
       "FloatProgress(value=0.0, bar_style='info', description='Progress:', layout=Layout(height='25px', width='50%'),…"
      ]
     },
     "metadata": {},
     "output_type": "display_data"
    }
   ],
   "source": [
    "df_renamed = dados.withColumnRenamed(\"_c0\", \"ID\")\\\n",
    "                .withColumnRenamed(\"City\", \"Cidade\") \\\n",
    "               .withColumnRenamed(\"Description\", \"Descricao\") \\\n",
    "               .withColumnRenamed(\"Temperature (F)\", \"Temperatura\") \\\n",
    "               .withColumnRenamed(\"Feels Like (F)\", \"Aproximadamente\") \\\n",
    "               .withColumnRenamed(\"Minimun Temp (F)\", \"Temp_Minima\") \\\n",
    "               .withColumnRenamed(\"Maximum Temp (F)\", \"Temp_Maxima\") \\\n",
    "               .withColumnRenamed(\"Pressure\", \"Pressao\") \\\n",
    "               .withColumnRenamed(\"Humidty\", \"Humidade\") \\\n",
    "               .withColumnRenamed(\"Wind Speed\", \"Velocidade_do_vento\") \\\n",
    "               .withColumnRenamed(\"Time of Record\", \"Tempo_de_gravacao\") \\\n",
    "               .withColumnRenamed(\"Sunrise (Local Time)\", \"Nascer_do_sol\") \\\n",
    "               .withColumnRenamed(\"Sunset (Local Time)\", \"Por_do_Sol\")"
   ]
  },
  {
   "cell_type": "code",
   "execution_count": 84,
   "id": "e1b2b7cc",
   "metadata": {},
   "outputs": [
    {
     "data": {
      "application/vnd.jupyter.widget-view+json": {
       "model_id": "",
       "version_major": 2,
       "version_minor": 0
      },
      "text/plain": [
       "FloatProgress(value=0.0, bar_style='info', description='Progress:', layout=Layout(height='25px', width='50%'),…"
      ]
     },
     "metadata": {},
     "output_type": "display_data"
    },
    {
     "name": "stdout",
     "output_type": "stream",
     "text": [
      "+--------+----------+-----------------+------------------+-----------------+-----------------+-----------------+-------+--------+-------------------+-------------------+-------------------+-------------------+\n",
      "|      ID|    Cidade|        Descricao|       Temperatura|  Aproximadamente|      Temp_Minima|      Temp_Maxima|Pressao|Humidade|Velocidade_do_vento|  Tempo_de_gravacao|      Nascer_do_sol|         Por_do_Sol|\n",
      "+--------+----------+-----------------+------------------+-----------------+-----------------+-----------------+-------+--------+-------------------+-------------------+-------------------+-------------------+\n",
      "|       0|  Portland|       few clouds|63.104000000000056|             62.6|           60.242|65.91200000000006|   1019|      74|               0.89|2024-07-18 08:26:15|2024-07-18 05:39:46|2024-07-18 20:53:47|\n",
      "|Portland|few clouds|66.48800000000006| 66.12800000000007|63.87800000000007|69.65600000000003|             1019|     70|    2.06|2024-07-18 09:24:13|2024-07-18 05:39:46|2024-07-18 20:53:47|               NULL|\n",
      "+--------+----------+-----------------+------------------+-----------------+-----------------+-----------------+-------+--------+-------------------+-------------------+-------------------+-------------------+\n",
      "only showing top 2 rows"
     ]
    }
   ],
   "source": [
    "df_renamed.show(2)\n"
   ]
  },
  {
   "cell_type": "code",
   "execution_count": 85,
   "id": "db6ba97d",
   "metadata": {},
   "outputs": [
    {
     "data": {
      "application/vnd.jupyter.widget-view+json": {
       "model_id": "",
       "version_major": 2,
       "version_minor": 0
      },
      "text/plain": [
       "FloatProgress(value=0.0, bar_style='info', description='Progress:', layout=Layout(height='25px', width='50%'),…"
      ]
     },
     "metadata": {},
     "output_type": "display_data"
    }
   ],
   "source": [
    "df_renamed.write.partitionBy().parquet('s3://auladums3/raw/', mode='append')"
   ]
  },
  {
   "cell_type": "code",
   "execution_count": null,
   "id": "e0d637a4",
   "metadata": {},
   "outputs": [],
   "source": []
  }
 ],
 "metadata": {
  "kernelspec": {
   "display_name": "PySpark",
   "language": "python",
   "name": "pysparkkernel"
  },
  "language_info": {
   "codemirror_mode": {
    "name": "python",
    "version": 3
   },
   "file_extension": ".py",
   "mimetype": "text/x-python",
   "name": "pyspark",
   "pygments_lexer": "python3"
  }
 },
 "nbformat": 4,
 "nbformat_minor": 5
}
